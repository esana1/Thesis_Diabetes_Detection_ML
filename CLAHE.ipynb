{
 "cells": [
  {
   "cell_type": "code",
   "execution_count": 1,
   "id": "2a4796ad",
   "metadata": {},
   "outputs": [
    {
     "name": "stdout",
     "output_type": "stream",
     "text": [
      "Requirement already satisfied: opencv-python in c:\\users\\user\\anaconda3\\lib\\site-packages (4.7.0.72)\n",
      "Requirement already satisfied: numpy in c:\\users\\user\\anaconda3\\lib\\site-packages (1.21.5)\n",
      "Note: you may need to restart the kernel to use updated packages.\n"
     ]
    }
   ],
   "source": [
    "pip install opencv-python numpy\n"
   ]
  },
  {
   "cell_type": "code",
   "execution_count": 4,
   "id": "443ba51f",
   "metadata": {},
   "outputs": [],
   "source": [
    "import cv2\n",
    "import os\n",
    "import glob\n",
    "\n",
    "# Create a CLAHE object (Arguments are optional)\n",
    "clahe = cv2.createCLAHE(clipLimit=2.0, tileGridSize=(8,8))\n",
    "\n",
    "# Define the source and destination directories\n",
    "src_dir = 'Data/Conjuctiva'\n",
    "dst_dir = 'Conjuctiva_Clahe'\n",
    "\n",
    "# Define the subfolders\n",
    "subfolders = ['diabetic', 'non_diabetic']\n",
    "\n",
    "# Loop over each subfolder\n",
    "for subfolder in subfolders:\n",
    "    # Create the destination subfolder if it doesn't already exist\n",
    "    os.makedirs(os.path.join(dst_dir, subfolder), exist_ok=True)\n",
    "\n",
    "    # Loop over each image in the subfolder\n",
    "    for img_file in glob.glob(os.path.join(src_dir, subfolder, '*')):\n",
    "        # Load the image\n",
    "        img = cv2.imread(img_file, 0)\n",
    "\n",
    "        # Apply CLAHE to the image\n",
    "        clahe_img = clahe.apply(img)\n",
    "\n",
    "        # Define the destination file path\n",
    "        dst_file = os.path.join(dst_dir, subfolder, os.path.basename(img_file))\n",
    "\n",
    "        # Save the CLAHE enhanced image\n",
    "        cv2.imwrite(dst_file, clahe_img)\n"
   ]
  },
  {
   "cell_type": "code",
   "execution_count": 13,
   "id": "5a5c3f32",
   "metadata": {},
   "outputs": [],
   "source": [
    "#Sharpening\n",
    "\n",
    "import cv2\n",
    "import numpy as np\n",
    "\n",
    "# Load the image\n",
    "img = cv2.imread('iris.png', 0)\n",
    "\n",
    "# Create a sharpening kernel\n",
    "kernel = np.array([[0, -1, 0], \n",
    "                   [-1, 5, -1], \n",
    "                   [0, -1, 0]])\n",
    "\n",
    "# Apply the sharpening kernel to the input image\n",
    "sharpened_img = cv2.filter2D(img, -1, kernel)\n",
    "\n",
    "# Display original and sharpened image\n",
    "cv2.imshow('Original Image', img)\n",
    "cv2.imshow('Sharpened Image', sharpened_img)\n",
    "\n",
    "# Save the sharpened image\n",
    "cv2.imwrite('output.jpg', sharpened_img)\n",
    "\n",
    "\n",
    "# Close the windows when any key is pressed\n",
    "cv2.waitKey(0)\n",
    "cv2.destroyAllWindows()\n"
   ]
  },
  {
   "cell_type": "markdown",
   "id": "741a5d84",
   "metadata": {},
   "source": []
  },
  {
   "cell_type": "code",
   "execution_count": 25,
   "id": "ad015ad4",
   "metadata": {},
   "outputs": [],
   "source": [
    "import cv2\n",
    "\n",
    "# Load the image\n",
    "img = cv2.imread('iris.png', 0)\n",
    "\n",
    "# Create a CLAHE object (Arguments are optional)\n",
    "clahe = cv2.createCLAHE(clipLimit=2.0, tileGridSize=(8,8))\n",
    "\n",
    "# Apply CLAHE to the grayscale image\n",
    "cl_img = clahe.apply(img)\n",
    "\n",
    "# Display original and CLAHE image\n",
    "cv2.imshow('Original Image', img)\n",
    "cv2.imshow('CLAHE Image', cl_img)\n",
    "\n",
    "# Save the CLAHE image\n",
    "cv2.imwrite('output.jpg', cl_img)\n",
    "\n",
    "# Close the windows when any key is pressed\n",
    "cv2.waitKey(0)\n",
    "cv2.destroyAllWindows()\n"
   ]
  },
  {
   "cell_type": "code",
   "execution_count": 28,
   "id": "e2e438c4",
   "metadata": {},
   "outputs": [],
   "source": [
    "import cv2\n",
    "import numpy as np\n",
    "\n",
    "# Load the image\n",
    "img = cv2.imread('IrisClahe.jpg', cv2.IMREAD_GRAYSCALE)\n",
    "\n",
    "# Apply blur to reduce noise\n",
    "img = cv2.medianBlur(img,5)\n",
    "\n",
    "# Canny Edge Detection\n",
    "edges = cv2.Canny(img,100,100)\n",
    "\n",
    "# Apply Hough Circle Transform\n",
    "circles = cv2.HoughCircles(edges, cv2.HOUGH_GRADIENT, 1, 20, param1=50, param2=30, minRadius=10, maxRadius=0)\n",
    "\n",
    "if circles is not None:\n",
    "    circles = np.uint16(np.around(circles))\n",
    "\n",
    "    # Draw circles\n",
    "    for i in circles[0,:]:\n",
    "        # draw the outer circle\n",
    "        cv2.circle(img,(i[0],i[1]),i[2],(0,255,0),2)\n",
    "        # draw the center of the circle\n",
    "        cv2.circle(img,(i[0],i[1]),2,(0,0,255),3)\n",
    "\n",
    "    cv2.imshow('Detected Circles',img)\n",
    "else:\n",
    "    print('No circles were found')\n",
    "\n",
    "cv2.waitKey(0)\n",
    "cv2.destroyAllWindows()\n"
   ]
  },
  {
   "cell_type": "code",
   "execution_count": null,
   "id": "e2d7e38e",
   "metadata": {},
   "outputs": [],
   "source": []
  }
 ],
 "metadata": {
  "kernelspec": {
   "display_name": "Python 3 (ipykernel)",
   "language": "python",
   "name": "python3"
  },
  "language_info": {
   "codemirror_mode": {
    "name": "ipython",
    "version": 3
   },
   "file_extension": ".py",
   "mimetype": "text/x-python",
   "name": "python",
   "nbconvert_exporter": "python",
   "pygments_lexer": "ipython3",
   "version": "3.9.13"
  }
 },
 "nbformat": 4,
 "nbformat_minor": 5
}
